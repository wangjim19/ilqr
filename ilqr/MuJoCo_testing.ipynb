{
 "cells": [
  {
   "cell_type": "code",
   "execution_count": 1,
   "metadata": {},
   "outputs": [],
   "source": [
    "import mujoco_py\n",
    "import os\n",
    "import numpy as np\n",
    "from mujoco_dynamics import MujocoDynamics"
   ]
  },
  {
   "cell_type": "code",
   "execution_count": 2,
   "metadata": {},
   "outputs": [],
   "source": [
    "xml_path = os.path.join(os.getcwd(), 'xmls', 'inverted_pendulum.xml')\n",
    "model = mujoco_py.load_model_from_path(xml_path)\n",
    "sim = mujoco_py.MjSim(model)"
   ]
  },
  {
   "cell_type": "code",
   "execution_count": 9,
   "metadata": {},
   "outputs": [
    {
     "name": "stdout",
     "output_type": "stream",
     "text": [
      "[ 0.00184113 -0.00434254] [ 0.18378366 -0.43146432]\n",
      "[ 0.01102428 -0.02587148] [ 0.73359629 -1.71385134]\n"
     ]
    }
   ],
   "source": [
    "sim.data.qpos[:] = [0.00184113, -0.00434254]\n",
    "sim.data.qvel[:] = [0.18378366, -0.43146432]\n",
    "print(sim.data.qpos, sim.data.qvel)\n",
    "sim.data.ctrl[:] = [3.0]\n",
    "sim.step()\n",
    "print(sim.data.qpos, sim.data.qvel)"
   ]
  },
  {
   "cell_type": "code",
   "execution_count": 60,
   "metadata": {},
   "outputs": [
    {
     "name": "stdout",
     "output_type": "stream",
     "text": [
      "[ 0.02920693 -0.06747734] [ 0.72686904 -1.66372661]\n",
      "[ 0.04553858 -0.10479942] [ 0.90616025 -2.06864007]\n"
     ]
    }
   ],
   "source": [
    "print(sim.data.qpos, sim.data.qvel)\n",
    "sim.data.ctrl[:] = [1.000001]\n",
    "sim.step()\n",
    "print(sim.data.qpos, sim.data.qvel)"
   ]
  },
  {
   "cell_type": "code",
   "execution_count": 84,
   "metadata": {},
   "outputs": [
    {
     "name": "stdout",
     "output_type": "stream",
     "text": [
      "0.02\n",
      "[[-3.  3.]]\n"
     ]
    }
   ],
   "source": [
    "print(sim.model.opt.timestep)\n",
    "print(sim.model.actuator_ctrlrange)"
   ]
  },
  {
   "cell_type": "code",
   "execution_count": 107,
   "metadata": {},
   "outputs": [
    {
     "name": "stdout",
     "output_type": "stream",
     "text": [
      "[0. 0. 0. 0.]\n",
      "2 2\n"
     ]
    }
   ],
   "source": [
    "print(np.concatenate([sim.data.qpos, sim.data.qvel]))\n",
    "print(sim.model.nq, sim.model.nv)"
   ]
  },
  {
   "cell_type": "code",
   "execution_count": 5,
   "metadata": {},
   "outputs": [],
   "source": [
    "dynamics = MujocoDynamics(xml_path)"
   ]
  },
  {
   "cell_type": "code",
   "execution_count": 11,
   "metadata": {},
   "outputs": [
    {
     "name": "stdout",
     "output_type": "stream",
     "text": [
      "[ 0.01102428 -0.02587148  0.73359629 -1.71385134]\n",
      "[ 0.00970685 -0.0227588   0.60210889 -1.40465707] [2.28478247]\n"
     ]
    }
   ],
   "source": [
    "print(dynamics.get_state())\n",
    "dynamics.set_state(np.array([0.00184113, -0.00434254, 0.18378366, -0.43146432]))\n",
    "print(dynamics.step(np.array([1.0])), dynamics.constrain(np.array([1.0])))"
   ]
  },
  {
   "cell_type": "code",
   "execution_count": null,
   "metadata": {},
   "outputs": [],
   "source": []
  }
 ],
 "metadata": {
  "kernelspec": {
   "display_name": "Python 3",
   "language": "python",
   "name": "python3"
  },
  "language_info": {
   "codemirror_mode": {
    "name": "ipython",
    "version": 3
   },
   "file_extension": ".py",
   "mimetype": "text/x-python",
   "name": "python",
   "nbconvert_exporter": "python",
   "pygments_lexer": "ipython3",
   "version": "3.7.3"
  }
 },
 "nbformat": 4,
 "nbformat_minor": 2
}
