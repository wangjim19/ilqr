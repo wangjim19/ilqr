{
 "cells": [
  {
   "cell_type": "code",
   "execution_count": 17,
   "metadata": {},
   "outputs": [],
   "source": [
    "import mujoco_py\n",
    "import os\n",
    "import numpy as np\n",
    "from mujoco_dynamics import MujocoDynamics\n",
    "import multiprocessing as mp\n",
    "import time"
   ]
  },
  {
   "cell_type": "code",
   "execution_count": 2,
   "metadata": {},
   "outputs": [],
   "source": [
    "xml_path = os.path.join(os.getcwd(), 'xmls', 'inverted_pendulum.xml')\n",
    "model = mujoco_py.load_model_from_path(xml_path)\n",
    "sim = mujoco_py.MjSim(model)"
   ]
  },
  {
   "cell_type": "code",
   "execution_count": 4,
   "metadata": {},
   "outputs": [
    {
     "name": "stdout",
     "output_type": "stream",
     "text": [
      "[ 0.00184113 -0.00434254] [ 0.18378366 -0.43146432]\n",
      "[ 0.00970685 -0.0227588 ] [ 0.60210889 -1.40465707]\n"
     ]
    }
   ],
   "source": [
    "sim.data.qpos[:] = [0.00184113, -0.00434254]\n",
    "sim.data.qvel[:] = [0.18378366, -0.43146432]\n",
    "print(sim.data.qpos, sim.data.qvel)\n",
    "sim.data.ctrl[:] = [2.28478247]\n",
    "sim.step()\n",
    "print(sim.data.qpos, sim.data.qvel)"
   ]
  },
  {
   "cell_type": "code",
   "execution_count": 5,
   "metadata": {},
   "outputs": [
    {
     "name": "stdout",
     "output_type": "stream",
     "text": [
      "[ 0.00970685 -0.0227588 ] [ 0.60210889 -1.40465707]\n",
      "[ 0.02353548 -0.05476015] [ 0.78066916 -1.79556659]\n"
     ]
    }
   ],
   "source": [
    "print(sim.data.qpos, sim.data.qvel)\n",
    "sim.data.ctrl[:] = [1.000001]\n",
    "sim.step()\n",
    "print(sim.data.qpos, sim.data.qvel)"
   ]
  },
  {
   "cell_type": "code",
   "execution_count": 6,
   "metadata": {},
   "outputs": [
    {
     "name": "stdout",
     "output_type": "stream",
     "text": [
      "0.02\n",
      "[[-3.  3.]]\n"
     ]
    }
   ],
   "source": [
    "print(sim.model.opt.timestep)\n",
    "print(sim.model.actuator_ctrlrange)"
   ]
  },
  {
   "cell_type": "code",
   "execution_count": 7,
   "metadata": {},
   "outputs": [
    {
     "name": "stdout",
     "output_type": "stream",
     "text": [
      "[ 0.02353548 -0.05476015  0.78066916 -1.79556659]\n",
      "2 2\n"
     ]
    }
   ],
   "source": [
    "print(np.concatenate([sim.data.qpos, sim.data.qvel]))\n",
    "print(sim.model.nq, sim.model.nv)"
   ]
  },
  {
   "cell_type": "code",
   "execution_count": 8,
   "metadata": {},
   "outputs": [],
   "source": [
    "dynamics = MujocoDynamics(xml_path)"
   ]
  },
  {
   "cell_type": "code",
   "execution_count": 9,
   "metadata": {},
   "outputs": [
    {
     "name": "stdout",
     "output_type": "stream",
     "text": [
      "[0. 0. 0. 0.]\n",
      "[ 0.00970685 -0.0227588   0.60210889 -1.40465707] [2.28478247]\n"
     ]
    }
   ],
   "source": [
    "print(dynamics.get_state())\n",
    "dynamics.set_state(np.array([0.00184113, -0.00434254, 0.18378366, -0.43146432]))\n",
    "print(dynamics.step(np.array([1.0])), dynamics.constrain(np.array([1.0])))"
   ]
  },
  {
   "cell_type": "code",
   "execution_count": 10,
   "metadata": {},
   "outputs": [
    {
     "name": "stdout",
     "output_type": "stream",
     "text": [
      "Creating window glfw\n"
     ]
    },
    {
     "ename": "SystemExit",
     "evalue": "0",
     "output_type": "error",
     "traceback": [
      "An exception has occurred, use %tb to see the full traceback.\n",
      "\u001b[0;31mSystemExit\u001b[0m\u001b[0;31m:\u001b[0m 0\n"
     ]
    },
    {
     "name": "stderr",
     "output_type": "stream",
     "text": [
      "//anaconda3/lib/python3.7/site-packages/IPython/core/interactiveshell.py:3333: UserWarning: To exit: use 'exit', 'quit', or Ctrl-D.\n",
      "  warn(\"To exit: use 'exit', 'quit', or Ctrl-D.\", stacklevel=1)\n"
     ]
    }
   ],
   "source": [
    "viewer = mujoco_py.MjViewer(sim)\n",
    "for i in range(1000):\n",
    "    sim.step()\n",
    "    viewer.render()"
   ]
  },
  {
   "cell_type": "code",
   "execution_count": 11,
   "metadata": {},
   "outputs": [
    {
     "name": "stdout",
     "output_type": "stream",
     "text": [
      "[ 4.00086607 -9.7618978 ] [ 5.91281464e-05 -8.08604038e-01]\n"
     ]
    }
   ],
   "source": [
    "sim.data.qpos[0] += 1\n",
    "print(sim.data.qpos, sim.data.qvel)"
   ]
  },
  {
   "cell_type": "code",
   "execution_count": 12,
   "metadata": {},
   "outputs": [
    {
     "name": "stdout",
     "output_type": "stream",
     "text": [
      "[  3.00080341 -21.99281524] [-4.10269552e-15 -6.74079068e-13]\n"
     ]
    }
   ],
   "source": [
    "for i in range(2000):\n",
    "    sim.step()\n",
    "print(sim.data.qpos, sim.data.qvel)"
   ]
  },
  {
   "cell_type": "code",
   "execution_count": 13,
   "metadata": {},
   "outputs": [],
   "source": [
    "from mujoco_dynamics import MujocoDynamics\n",
    "import os\n",
    "import numpy as np\n",
    "import multiprocessing as mp"
   ]
  },
  {
   "cell_type": "code",
   "execution_count": 19,
   "metadata": {},
   "outputs": [],
   "source": [
    "xml_path = os.path.join('..', 'ilqr', 'xmls', 'inverted_pendulum.xml')\n",
    "dynamics = MujocoDynamics(xml_path, frame_skip = 2)"
   ]
  },
  {
   "cell_type": "code",
   "execution_count": 92,
   "metadata": {},
   "outputs": [
    {
     "name": "stdout",
     "output_type": "stream",
     "text": [
      "hi\n",
      "hi\n",
      "hi\n",
      "hi\n",
      "hi\n",
      "hi\n",
      "hi\n",
      "hi\n",
      "hi\n",
      "hi\n",
      "hi\n",
      "hi\n",
      "hi\n",
      "hi\n",
      "hi\n",
      "hi\n"
     ]
    }
   ],
   "source": [
    "def _worker_init(xml_path):\n",
    "    global sim\n",
    "    model = mujoco_py.load_model_from_path(xml_path)\n",
    "    sim = mujoco_py.MjSim(model)\n",
    "    print(\"hi\")\n",
    "def _worker(u):\n",
    "    sim.reset()\n",
    "    for i in range(100):\n",
    "        sim.step(u)\n",
    "    \n",
    "pool = mp.Pool(initializer = _worker_init, initargs = (xml_path,))\n",
    "\n"
   ]
  },
  {
   "cell_type": "code",
   "execution_count": 93,
   "metadata": {},
   "outputs": [
    {
     "name": "stdout",
     "output_type": "stream",
     "text": [
      "0.0238189697265625\n"
     ]
    }
   ],
   "source": [
    "t0 = time.time()\n",
    "results = pool.map(_worker, [np.array([0.0]) for i in range(100)])\n",
    "print(time.time() - t0)"
   ]
  },
  {
   "cell_type": "code",
   "execution_count": 94,
   "metadata": {},
   "outputs": [],
   "source": [
    "pool.close()"
   ]
  },
  {
   "cell_type": "code",
   "execution_count": 95,
   "metadata": {},
   "outputs": [
    {
     "name": "stdout",
     "output_type": "stream",
     "text": [
      "0.08756303787231445\n"
     ]
    }
   ],
   "source": [
    "t0 = time.time()\n",
    "\n",
    "model = mujoco_py.load_model_from_path(xml_path)\n",
    "sim = mujoco_py.MjSim(model)\n",
    "for i in range(100):\n",
    "    sim.reset()\n",
    "    for i in range(100):\n",
    "        sim.step(np.array([0.0]))\n",
    "\n",
    "print(time.time() - t0)"
   ]
  },
  {
   "cell_type": "code",
   "execution_count": 100,
   "metadata": {},
   "outputs": [
    {
     "data": {
      "text/plain": [
       "((1, 3, 5), (2, 4, 6))"
      ]
     },
     "execution_count": 100,
     "metadata": {},
     "output_type": "execute_result"
    }
   ],
   "source": [
    "t = ([1,2], [3,4], [5,6])\n",
    "tuple(zip(*t))"
   ]
  },
  {
   "cell_type": "code",
   "execution_count": 1,
   "metadata": {},
   "outputs": [
    {
     "ename": "ModuleNotFoundError",
     "evalue": "No module named 'mujoco_py_deriv'",
     "output_type": "error",
     "traceback": [
      "\u001b[0;31m---------------------------------------------------------------------------\u001b[0m",
      "\u001b[0;31mModuleNotFoundError\u001b[0m                       Traceback (most recent call last)",
      "\u001b[0;32m<ipython-input-1-0cb057510dd2>\u001b[0m in \u001b[0;36m<module>\u001b[0;34m\u001b[0m\n\u001b[0;32m----> 1\u001b[0;31m \u001b[0;32mimport\u001b[0m \u001b[0mmujoco_py_deriv\u001b[0m\u001b[0;34m\u001b[0m\u001b[0;34m\u001b[0m\u001b[0m\n\u001b[0m",
      "\u001b[0;31mModuleNotFoundError\u001b[0m: No module named 'mujoco_py_deriv'"
     ]
    }
   ],
   "source": [
    "import mujoco_py_deriv"
   ]
  },
  {
   "cell_type": "code",
   "execution_count": null,
   "metadata": {},
   "outputs": [],
   "source": []
  }
 ],
 "metadata": {
  "kernelspec": {
   "display_name": "Python 3",
   "language": "python",
   "name": "python3"
  },
  "language_info": {
   "codemirror_mode": {
    "name": "ipython",
    "version": 3
   },
   "file_extension": ".py",
   "mimetype": "text/x-python",
   "name": "python",
   "nbconvert_exporter": "python",
   "pygments_lexer": "ipython3",
   "version": "3.7.3"
  }
 },
 "nbformat": 4,
 "nbformat_minor": 2
}
