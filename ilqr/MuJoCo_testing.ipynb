{
 "cells": [
  {
   "cell_type": "code",
   "execution_count": 1,
   "metadata": {},
   "outputs": [
    {
     "name": "stdout",
     "output_type": "stream",
     "text": [
      "Choosing the latest nvidia driver: /usr/lib/nvidia-418, among ['/usr/lib/nvidia-375', '/usr/lib/nvidia-418']\n",
      "Choosing the latest nvidia driver: /usr/lib/nvidia-418, among ['/usr/lib/nvidia-375', '/usr/lib/nvidia-418']\n"
     ]
    }
   ],
   "source": [
    "import mujoco_py\n",
    "import os\n",
    "import numpy as np\n",
    "from mujoco_dynamics import MujocoDynamics\n",
    "import multiprocessing as mp\n",
    "import time"
   ]
  },
  {
   "cell_type": "code",
   "execution_count": 2,
   "metadata": {},
   "outputs": [
    {
     "name": "stdout",
     "output_type": "stream",
     "text": [
      "time 0.5453927516937256\n"
     ]
    }
   ],
   "source": [
    "import mujoco_dynamics\n",
    "xml_path = os.path.join(os.getcwd(), 'xmls', 'half_cheetah.xml')\n",
    "dynamics2 = mujoco_dynamics.MujocoDynamics(xml_path, x_eps = 1e-6, u_eps = 1e-6)\n",
    "\n",
    "time0 = time.time()\n",
    "for i in range(1000):\n",
    "    \n",
    "    dynamics2.set_state(np.random.uniform(-1.0, 1.0, (dynamics2.state_size,)))\n",
    "    dynamics2.f_x(dynamics2.get_state(), np.array([0.0]))\n",
    "print(\"time\", time.time() - time0)"
   ]
  },
  {
   "cell_type": "code",
   "execution_count": 3,
   "metadata": {},
   "outputs": [],
   "source": [
    "import os\n",
    "import numpy as np\n",
    "import mujoco_dynamics\n",
    "dynamics3 = mujoco_dynamics.MujocoDynamics(xml_path, x_eps = 1e-6, u_eps = 13-6)"
   ]
  },
  {
   "cell_type": "code",
   "execution_count": 4,
   "metadata": {},
   "outputs": [
    {
     "name": "stdout",
     "output_type": "stream",
     "text": [
      "time 0.6982851028442383\n"
     ]
    }
   ],
   "source": [
    "import mujoco_py as mj\n",
    "from mujoco_py_deriv import MjDerivative\n",
    "sim = dynamics3.sim\n",
    "dmain = sim.data\n",
    "model = sim.model\n",
    "deriv_obj1 = MjDerivative(model, dmain, [\"qacc\"], [\"qpos\"], nwarmup = 1, niter = 1)\n",
    "deriv_obj2 = MjDerivative(model, dmain, [\"qacc\"], [\"qvel\"], nwarmup = 1, niter = 1)\n",
    "\n",
    "time0 = time.time()\n",
    "for i in range(1000):\n",
    "    \n",
    "    #time0 = time.time()\n",
    "    dynamics3.set_state(np.random.uniform(-1.0, 1.0, (dynamics3.state_size,)))\n",
    "    \n",
    "    deriv1 = deriv_obj1.compute()\n",
    "    deriv2 = deriv_obj2.compute()\n",
    "    dqacc_dqpos = deriv1[0][0]\n",
    "    dqacc_dqvel = deriv2[0][0]\n",
    "    \n",
    "    #time1 = time.time()\n",
    "    \n",
    "    f_x = np.eye(dynamics3.state_size)\n",
    "    f_x[:dynamics3.state_size//2, :dynamics3.state_size//2] += 0.5 * (dynamics3.dt ** 2) * dqacc_dqpos\n",
    "    f_x[:dynamics3.state_size//2, dynamics3.state_size//2:] += np.eye(dynamics3.state_size // 2) * dynamics3.dt\n",
    "    f_x[:dynamics3.state_size//2, dynamics3.state_size//2:] += 0.5 * (dynamics3.dt ** 2) * dqacc_dqvel\n",
    "\n",
    "    f_x[dynamics3.state_size//2:, :dynamics3.state_size//2] += dynamics3.dt * dqacc_dqpos\n",
    "    f_x[dynamics3.state_size//2:, dynamics3.state_size//2:] += dynamics3.dt * dqacc_dqvel\n",
    "    \n",
    "    #time2 = time.time()\n",
    "    #print(\"time0-1:\", time1-time0, \"time1-2\", time2-time1)\n",
    "\n",
    "print(\"time\", time.time() - time0)"
   ]
  },
  {
   "cell_type": "code",
   "execution_count": 151,
   "metadata": {},
   "outputs": [
    {
     "name": "stdout",
     "output_type": "stream",
     "text": [
      "[ 0.8308427   0.40764689 -0.63954874 -0.56078832  0.11812803  0.47434226\n",
      " -0.30082169 -0.41879214  0.83500044]\n",
      "[[[[-4.33505044e+01  3.60605692e+01  2.86849559e+00 -3.84500967e+00\n",
      "     9.65172489e-01  1.63424829e-05 -3.78360494e+00 -3.11016188e+00\n",
      "    -5.68473666e-01]\n",
      "   [ 3.63277109e+01 -9.30943863e+01  1.12328155e+01 -2.03465311e+00\n",
      "     7.34696528e-01  2.81113444e-02 -1.20575305e+00 -8.40982921e-01\n",
      "    -1.81204314e-02]\n",
      "   [ 3.70921753e+01  8.07788114e+01 -3.46446961e+01 -5.47668935e+00\n",
      "     2.68965243e+00  1.59933506e-01  5.54184544e+00  7.70669362e+00\n",
      "     1.37799532e+00]\n",
      "   [-1.77060866e+01  2.23789872e+01 -8.90929300e-01 -1.10059246e+02\n",
      "     6.64813115e-01  3.83621767e-01 -1.16296067e+00 -8.80384079e-01\n",
      "    -1.71644984e-01]\n",
      "   [-3.34431882e+01 -1.03608069e+01  2.04581297e+01  3.32018307e+01\n",
      "    -2.05206539e+01  2.87761452e+00  8.60026717e-01 -3.22672668e+00\n",
      "    -7.54870939e-01]\n",
      "   [-4.12448447e+01  4.55005479e+01  1.01555531e+00  2.41503697e+01\n",
      "     3.71142573e+00 -2.68645504e+01 -1.99226031e+00 -2.18252057e+00\n",
      "    -4.54907536e-01]\n",
      "   [ 5.17775334e-03 -7.76915199e+01 -1.07919569e+02  4.47427328e+00\n",
      "    -2.65482277e+00 -1.87269507e-01 -1.33474476e+02 -2.05971546e+01\n",
      "    -4.03915692e-01]\n",
      "   [-3.35294159e+02 -7.71136452e+01  1.91642746e+02  6.43791964e+00\n",
      "     3.59412752e-01  2.35480059e-01  3.84507983e+01 -5.15831400e+01\n",
      "    -1.72538728e+00]\n",
      "   [-5.47869098e+01  1.31707078e+01  2.33297745e+01  1.79190420e+00\n",
      "     1.61422122e-01  7.52668257e-02  4.63278093e+00 -4.43303554e+00\n",
      "    -1.11202514e+02]]]]\n",
      "[[[[ 5.68434189e-07  0.00000000e+00  0.00000000e+00  0.00000000e+00\n",
      "     0.00000000e+00  0.00000000e+00  0.00000000e+00  0.00000000e+00\n",
      "     0.00000000e+00]\n",
      "   [ 0.00000000e+00  0.00000000e+00  0.00000000e+00  0.00000000e+00\n",
      "     0.00000000e+00  0.00000000e+00  0.00000000e+00  0.00000000e+00\n",
      "     0.00000000e+00]\n",
      "   [ 0.00000000e+00  0.00000000e+00  0.00000000e+00  0.00000000e+00\n",
      "     0.00000000e+00  0.00000000e+00  0.00000000e+00  0.00000000e+00\n",
      "     0.00000000e+00]\n",
      "   [ 0.00000000e+00  0.00000000e+00  0.00000000e+00  0.00000000e+00\n",
      "     0.00000000e+00  0.00000000e+00  0.00000000e+00  0.00000000e+00\n",
      "     0.00000000e+00]\n",
      "   [-2.27373675e-06  0.00000000e+00  0.00000000e+00  0.00000000e+00\n",
      "     0.00000000e+00  0.00000000e+00  0.00000000e+00  0.00000000e+00\n",
      "     0.00000000e+00]\n",
      "   [ 0.00000000e+00  0.00000000e+00  0.00000000e+00  0.00000000e+00\n",
      "     0.00000000e+00  0.00000000e+00  0.00000000e+00  0.00000000e+00\n",
      "     0.00000000e+00]\n",
      "   [ 0.00000000e+00  0.00000000e+00  0.00000000e+00  0.00000000e+00\n",
      "     0.00000000e+00  0.00000000e+00  0.00000000e+00  0.00000000e+00\n",
      "     0.00000000e+00]\n",
      "   [ 0.00000000e+00  0.00000000e+00  0.00000000e+00  0.00000000e+00\n",
      "     0.00000000e+00  0.00000000e+00  0.00000000e+00  0.00000000e+00\n",
      "     0.00000000e+00]\n",
      "   [ 0.00000000e+00  0.00000000e+00  0.00000000e+00  0.00000000e+00\n",
      "     0.00000000e+00  0.00000000e+00  0.00000000e+00  0.00000000e+00\n",
      "     0.00000000e+00]]]]\n"
     ]
    }
   ],
   "source": [
    "import mujoco_py as mj\n",
    "from mujoco_py_deriv import MjDerivative, checkderiv\n",
    "\n",
    "# Prepare mujoco model and data\n",
    "\n",
    "print(dmain.qvel)\n",
    "# To compute δf/δx\n",
    "f = [\"qacc\"]\n",
    "x = [\"qvel\"]\n",
    "deriv_obj1 = MjDerivative(model, dmain, f, x)\n",
    "deriv1 = deriv_obj1.compute()\n",
    "print(deriv1)\n",
    "\n",
    "deriv_obj2 = MjDerivative(model, dmain, f, x, nwarmup = 3, niter = 10)\n",
    "deriv2 = deriv_obj2.compute()\n",
    "print(deriv2 - deriv1)"
   ]
  },
  {
   "cell_type": "markdown",
   "metadata": {},
   "source": [
    "x(i+1) = x(i) + v(i) * dt + 0.5 a(i) * dt^2\n",
    "\n",
    "v(i+1) = v(i) + a(i) * dt"
   ]
  },
  {
   "cell_type": "code",
   "execution_count": 89,
   "metadata": {},
   "outputs": [
    {
     "name": "stdout",
     "output_type": "stream",
     "text": [
      "[-0.727485    0.88537822 -0.9781251  -0.32160277]\n",
      "[[-9.98890248e-01  3.89653532e-04  0.00000000e+00  0.00000000e+00]\n",
      " [ 3.83875043e-04 -9.99827227e-01  1.11022302e-10  0.00000000e+00]\n",
      " [ 0.00000000e+00  0.00000000e+00 -1.00000000e+02  0.00000000e+00]\n",
      " [ 0.00000000e+00  0.00000000e+00  0.00000000e+00 -1.00000000e+02]]\n"
     ]
    }
   ],
   "source": [
    "import os\n",
    "import numpy as np\n",
    "import mujoco_py as mj\n",
    "from mujoco_py_deriv import MjDerivative, checkderiv\n",
    "\n",
    "\n",
    "center = np.zeros_like(sim.data.qvel)\n",
    "center[:] = dmain.qvel\n",
    "sim.data.qvel[:] = center\n",
    "print(sim.data.qvel)\n",
    "sim.forward()\n",
    "qacc_center = np.zeros_like(sim.data.qacc)\n",
    "qacc_center[:] = sim.data.qacc\n",
    "deriv = np.zeros((sim.data.qacc.shape[0], sim.data.qvel.shape[0]))\n",
    "for i in range(center.shape[0]):\n",
    "    center[i] += 1e-6\n",
    "    sim.data.qvel[:] = center\n",
    "    sim.forward()\n",
    "    deriv[:, i] = (sim.data.qacc - qacc_center) / 1e-6\n",
    "    center[i] -= 1e-6\n",
    "print(deriv)"
   ]
  },
  {
   "cell_type": "code",
   "execution_count": 3,
   "metadata": {},
   "outputs": [
    {
     "name": "stdout",
     "output_type": "stream",
     "text": [
      "10\n"
     ]
    }
   ],
   "source": [
    "import os\n",
    "import mujoco_dynamics\n",
    "xml_path = os.path.join(os.getcwd(), 'xmls', 'swimmer.xml')\n",
    "dynamics = mujoco_dynamics.MujocoDynamics(xml_path, x_eps = 1e-6, u_eps = 1e-6)\n",
    "print(dynamics.state_size)"
   ]
  },
  {
   "cell_type": "code",
   "execution_count": 4,
   "metadata": {},
   "outputs": [
    {
     "name": "stdout",
     "output_type": "stream",
     "text": [
      "Creating window glfw\n"
     ]
    }
   ],
   "source": [
    "from mujoco_py import MjViewer\n",
    "import numpy as np\n",
    "viewer = MjViewer(dynamics.sim)\n",
    "for i in range(100):\n",
    "    state = dynamics.get_state()\n",
    "    state[2] = 0\n",
    "    state[3] = np.pi / 6\n",
    "    state[4] = - np.pi / 6\n",
    "    dynamics.set_state(state)\n",
    "    viewer.render()"
   ]
  },
  {
   "cell_type": "code",
   "execution_count": null,
   "metadata": {},
   "outputs": [],
   "source": []
  }
 ],
 "metadata": {
  "kernelspec": {
   "display_name": "Python 3",
   "language": "python",
   "name": "python3"
  },
  "language_info": {
   "codemirror_mode": {
    "name": "ipython",
    "version": 3
   },
   "file_extension": ".py",
   "mimetype": "text/x-python",
   "name": "python",
   "nbconvert_exporter": "python",
   "pygments_lexer": "ipython3",
   "version": "3.7.7"
  }
 },
 "nbformat": 4,
 "nbformat_minor": 2
}
