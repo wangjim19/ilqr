{
 "cells": [
  {
   "cell_type": "code",
   "execution_count": 17,
   "metadata": {},
   "outputs": [],
   "source": [
    "import mujoco_py\n",
    "import os\n",
    "import numpy as np\n",
    "from mujoco_dynamics import MujocoDynamics\n",
    "import multiprocessing as mp\n",
    "import time"
   ]
  },
  {
   "cell_type": "code",
   "execution_count": 2,
   "metadata": {},
   "outputs": [],
   "source": [
    "xml_path = os.path.join(os.getcwd(), 'xmls', 'inverted_pendulum.xml')\n",
    "model = mujoco_py.load_model_from_path(xml_path)\n",
    "sim = mujoco_py.MjSim(model)"
   ]
  },
  {
   "cell_type": "code",
   "execution_count": 4,
   "metadata": {},
   "outputs": [
    {
     "name": "stdout",
     "output_type": "stream",
     "text": [
      "[ 0.00184113 -0.00434254] [ 0.18378366 -0.43146432]\n",
      "[ 0.00970685 -0.0227588 ] [ 0.60210889 -1.40465707]\n"
     ]
    }
   ],
   "source": [
    "sim.data.qpos[:] = [0.00184113, -0.00434254]\n",
    "sim.data.qvel[:] = [0.18378366, -0.43146432]\n",
    "print(sim.data.qpos, sim.data.qvel)\n",
    "sim.data.ctrl[:] = [2.28478247]\n",
    "sim.step()\n",
    "print(sim.data.qpos, sim.data.qvel)"
   ]
  },
  {
   "cell_type": "code",
   "execution_count": 5,
   "metadata": {},
   "outputs": [
    {
     "name": "stdout",
     "output_type": "stream",
     "text": [
      "[ 0.00970685 -0.0227588 ] [ 0.60210889 -1.40465707]\n",
      "[ 0.02353548 -0.05476015] [ 0.78066916 -1.79556659]\n"
     ]
    }
   ],
   "source": [
    "print(sim.data.qpos, sim.data.qvel)\n",
    "sim.data.ctrl[:] = [1.000001]\n",
    "sim.step()\n",
    "print(sim.data.qpos, sim.data.qvel)"
   ]
  },
  {
   "cell_type": "code",
   "execution_count": 6,
   "metadata": {},
   "outputs": [
    {
     "name": "stdout",
     "output_type": "stream",
     "text": [
      "0.02\n",
      "[[-3.  3.]]\n"
     ]
    }
   ],
   "source": [
    "print(sim.model.opt.timestep)\n",
    "print(sim.model.actuator_ctrlrange)"
   ]
  },
  {
   "cell_type": "code",
   "execution_count": 7,
   "metadata": {},
   "outputs": [
    {
     "name": "stdout",
     "output_type": "stream",
     "text": [
      "[ 0.02353548 -0.05476015  0.78066916 -1.79556659]\n",
      "2 2\n"
     ]
    }
   ],
   "source": [
    "print(np.concatenate([sim.data.qpos, sim.data.qvel]))\n",
    "print(sim.model.nq, sim.model.nv)"
   ]
  },
  {
   "cell_type": "code",
   "execution_count": 8,
   "metadata": {},
   "outputs": [],
   "source": [
    "dynamics = MujocoDynamics(xml_path)"
   ]
  },
  {
   "cell_type": "code",
   "execution_count": 9,
   "metadata": {},
   "outputs": [
    {
     "name": "stdout",
     "output_type": "stream",
     "text": [
      "[0. 0. 0. 0.]\n",
      "[ 0.00970685 -0.0227588   0.60210889 -1.40465707] [2.28478247]\n"
     ]
    }
   ],
   "source": [
    "print(dynamics.get_state())\n",
    "dynamics.set_state(np.array([0.00184113, -0.00434254, 0.18378366, -0.43146432]))\n",
    "print(dynamics.step(np.array([1.0])), dynamics.constrain(np.array([1.0])))"
   ]
  },
  {
   "cell_type": "code",
   "execution_count": 10,
   "metadata": {},
   "outputs": [
    {
     "name": "stdout",
     "output_type": "stream",
     "text": [
      "Creating window glfw\n"
     ]
    },
    {
     "ename": "SystemExit",
     "evalue": "0",
     "output_type": "error",
     "traceback": [
      "An exception has occurred, use %tb to see the full traceback.\n",
      "\u001b[0;31mSystemExit\u001b[0m\u001b[0;31m:\u001b[0m 0\n"
     ]
    },
    {
     "name": "stderr",
     "output_type": "stream",
     "text": [
      "//anaconda3/lib/python3.7/site-packages/IPython/core/interactiveshell.py:3333: UserWarning: To exit: use 'exit', 'quit', or Ctrl-D.\n",
      "  warn(\"To exit: use 'exit', 'quit', or Ctrl-D.\", stacklevel=1)\n"
     ]
    }
   ],
   "source": [
    "viewer = mujoco_py.MjViewer(sim)\n",
    "for i in range(1000):\n",
    "    sim.step()\n",
    "    viewer.render()"
   ]
  },
  {
   "cell_type": "code",
   "execution_count": 11,
   "metadata": {},
   "outputs": [
    {
     "name": "stdout",
     "output_type": "stream",
     "text": [
      "[ 4.00086607 -9.7618978 ] [ 5.91281464e-05 -8.08604038e-01]\n"
     ]
    }
   ],
   "source": [
    "sim.data.qpos[0] += 1\n",
    "print(sim.data.qpos, sim.data.qvel)"
   ]
  },
  {
   "cell_type": "code",
   "execution_count": 12,
   "metadata": {},
   "outputs": [
    {
     "name": "stdout",
     "output_type": "stream",
     "text": [
      "[  3.00080341 -21.99281524] [-4.10269552e-15 -6.74079068e-13]\n"
     ]
    }
   ],
   "source": [
    "for i in range(2000):\n",
    "    sim.step()\n",
    "print(sim.data.qpos, sim.data.qvel)"
   ]
  },
  {
   "cell_type": "code",
   "execution_count": 13,
   "metadata": {},
   "outputs": [],
   "source": [
    "from mujoco_dynamics import MujocoDynamics\n",
    "import os\n",
    "import numpy as np\n",
    "import multiprocessing as mp"
   ]
  },
  {
   "cell_type": "code",
   "execution_count": 19,
   "metadata": {},
   "outputs": [],
   "source": [
    "xml_path = os.path.join('..', 'ilqr', 'xmls', 'inverted_pendulum.xml')\n",
    "dynamics = MujocoDynamics(xml_path, frame_skip = 2)"
   ]
  },
  {
   "cell_type": "code",
   "execution_count": 92,
   "metadata": {},
   "outputs": [
    {
     "name": "stdout",
     "output_type": "stream",
     "text": [
      "hi\n",
      "hi\n",
      "hi\n",
      "hi\n",
      "hi\n",
      "hi\n",
      "hi\n",
      "hi\n",
      "hi\n",
      "hi\n",
      "hi\n",
      "hi\n",
      "hi\n",
      "hi\n",
      "hi\n",
      "hi\n"
     ]
    }
   ],
   "source": [
    "def _worker_init(xml_path):\n",
    "    global sim\n",
    "    model = mujoco_py.load_model_from_path(xml_path)\n",
    "    sim = mujoco_py.MjSim(model)\n",
    "    print(\"hi\")\n",
    "def _worker(u):\n",
    "    sim.reset()\n",
    "    for i in range(100):\n",
    "        sim.step(u)\n",
    "    \n",
    "pool = mp.Pool(initializer = _worker_init, initargs = (xml_path,))\n",
    "\n"
   ]
  },
  {
   "cell_type": "code",
   "execution_count": 93,
   "metadata": {},
   "outputs": [
    {
     "name": "stdout",
     "output_type": "stream",
     "text": [
      "0.0238189697265625\n"
     ]
    }
   ],
   "source": [
    "t0 = time.time()\n",
    "results = pool.map(_worker, [np.array([0.0]) for i in range(100)])\n",
    "print(time.time() - t0)"
   ]
  },
  {
   "cell_type": "code",
   "execution_count": 94,
   "metadata": {},
   "outputs": [],
   "source": [
    "pool.close()"
   ]
  },
  {
   "cell_type": "code",
   "execution_count": 95,
   "metadata": {},
   "outputs": [
    {
     "name": "stdout",
     "output_type": "stream",
     "text": [
      "0.08756303787231445\n"
     ]
    }
   ],
   "source": [
    "t0 = time.time()\n",
    "\n",
    "model = mujoco_py.load_model_from_path(xml_path)\n",
    "sim = mujoco_py.MjSim(model)\n",
    "for i in range(100):\n",
    "    sim.reset()\n",
    "    for i in range(100):\n",
    "        sim.step(np.array([0.0]))\n",
    "\n",
    "print(time.time() - t0)"
   ]
  },
  {
   "cell_type": "code",
   "execution_count": 100,
   "metadata": {},
   "outputs": [
    {
     "data": {
      "text/plain": [
       "((1, 3, 5), (2, 4, 6))"
      ]
     },
     "execution_count": 100,
     "metadata": {},
     "output_type": "execute_result"
    }
   ],
   "source": [
    "t = ([1,2], [3,4], [5,6])\n",
    "tuple(zip(*t))"
   ]
  },
  {
   "cell_type": "code",
   "execution_count": 12,
   "metadata": {},
   "outputs": [],
   "source": [
    "import os\n",
    "import mujoco_py as mj\n",
    "from mujoco_py_deriv import MjDerivative, checkderiv"
   ]
  },
  {
   "cell_type": "code",
   "execution_count": 13,
   "metadata": {},
   "outputs": [],
   "source": [
    "xml_path = os.path.join(os.getcwd(), 'xmls', 'inverted_pendulum.xml')\n",
    "model = mj.load_model_from_path(xml_path)\n",
    "sim = mj.MjSim(model, nsubsteps=2)\n",
    "dmain = sim.data"
   ]
  },
  {
   "cell_type": "code",
   "execution_count": 14,
   "metadata": {},
   "outputs": [
    {
     "name": "stdout",
     "output_type": "stream",
     "text": [
      "[-4.13189137e-06  4.03269077e-05]\n",
      "[[[[  9.24630187   0.09246302]\n",
      "   [-22.06742649  -0.22067426]]]]\n"
     ]
    }
   ],
   "source": [
    "sim.step()\n",
    "dmain.ctrl[:] = [0.5]\n",
    "f = [\"qacc\"]\n",
    "x = [\"ctrl\"]\n",
    "deriv_obj = MjDerivative(model, dmain, f, x)\n",
    "deriv = deriv_obj.compute()\n",
    "print(dmain.qpos)\n",
    "print(deriv)"
   ]
  },
  {
   "cell_type": "code",
   "execution_count": 50,
   "metadata": {},
   "outputs": [],
   "source": [
    "from functools import wraps\n",
    "\n",
    "def cached_method(method, cache_name='_cache'):\n",
    "    default = object()\n",
    "    @wraps(method)\n",
    "    def wrapper(self):\n",
    "        name = method.__name__\n",
    "        _cache = getattr(self, cache_name, dict())\n",
    "        cache = (_cache\n",
    "                 if isinstance(_cache, dict)\n",
    "                 else vars(_cache))\n",
    "        setattr(self, cache_name, _cache)\n",
    "        val = cache.get(name, default)\n",
    "        if val is default:\n",
    "            val = method(self)\n",
    "            cache[name] = val\n",
    "\n",
    "        assert val is not default\n",
    "        return val\n",
    "    return wrapper\n",
    "\n",
    "\n",
    "def cached_property(method, **kw):\n",
    "    return property(cached_method(method, **kw))\n",
    "\n",
    "\n",
    "import numpy as np\n",
    "import mujoco_py as mj\n",
    "\n",
    "def mjc_addr_to_indices(addr):\n",
    "    indices = (np.arange(*addr)\n",
    "               if isinstance(addr, tuple)\n",
    "               else np.arange(addr, addr+1))\n",
    "    return indices\n",
    "\n",
    "def mjc_qpos_indices_from_jnt_names(model, joints):\n",
    "    return np.hstack([\n",
    "        mjc_addr_to_indices(model.get_joint_qpos_addr(j))\n",
    "        for j in joints])\n",
    "\n",
    "\n",
    "def mjc_dof_indices_from_jnt_names(model, joints):\n",
    "    return np.hstack([\n",
    "        mjc_addr_to_indices(model.get_joint_qvel_addr(j))\n",
    "        for j in joints])\n",
    "\n",
    "\n"
   ]
  },
  {
   "cell_type": "code",
   "execution_count": 51,
   "metadata": {},
   "outputs": [],
   "source": [
    "from argparse import Namespace\n",
    "\n",
    "import numpy as np\n",
    "import mujoco_py\n",
    "from mujoco_py_deriv import MjDerivative\n",
    "\n",
    "\n",
    "\n",
    "TOL = 1e-6\n",
    "\n",
    "\n",
    "def safe_div(x, y, default=0, tol=TOL):\n",
    "    return np.where(np.abs(y) < tol, default, x / y)\n",
    "\n",
    "\n",
    "class MujocoDynamics:\n",
    "    def __init__(self, mjsim, joints, dt=None, goal_body=\"fingertip\"):\n",
    "        self.joints = joints\n",
    "        self.sim = mjsim\n",
    "        self.model = mjsim.model\n",
    "        self.data = mjsim.data\n",
    "        if dt is not None:\n",
    "            self.model.opt.timestep = dt\n",
    "        self.goal_body = goal_body\n",
    "        self.mjderiv = MjDerivative(self.model, self.data, [\"qacc\"],\n",
    "                                    [\"qfrc_applied\", \"qvel\", \"qpos\"],\n",
    "                                    isforward=1)\n",
    "        self._cache = Namespace()\n",
    "        self._cache.state = np.empty(self.state_size)\n",
    "        self._cache.f_x = np.empty((self.state_size, self.state_size))\n",
    "        self._cache.f_u = np.empty((self.state_size, self.action_size))\n",
    "        self._cache.deriv = np.empty(self.mjderiv.ext.deriv_shape(),\n",
    "                                     dtype=np.float64)\n",
    "        if self.model.nq != self.model.nv:\n",
    "            raise NotImplementedError(\"Not implemented for quaternions\")\n",
    "\n",
    "    @cached_property\n",
    "    def qpos_indices(self):\n",
    "        return mjc_qpos_indices_from_jnt_names(self.model, self.joints)\n",
    "\n",
    "    @cached_property\n",
    "    def dof_indices(self):\n",
    "        return mjc_dof_indices_from_jnt_names(self.model, self.joints)\n",
    "\n",
    "    @property\n",
    "    def state_size(self):\n",
    "        return len(self.qpos_indices) + len(self.dof_indices)\n",
    "\n",
    "    @property\n",
    "    def action_size(self):\n",
    "        \"\"\"Action size.\"\"\"\n",
    "        return self.model.nu\n",
    "\n",
    "    @property\n",
    "    def has_hessians(self):\n",
    "        \"\"\"Whether the second order derivatives are available.\"\"\"\n",
    "        return False\n",
    "\n",
    "    def _set_temp_data(self):\n",
    "        self.sim.data = None\n",
    "\n",
    "    def _set_data(self, x, u):\n",
    "        assert not np.isnan(x).any() and not np.isinf(x).any()\n",
    "        if u is not None:\n",
    "            assert not np.isnan(u).any() and not np.isinf(x).any()\n",
    "        qpos = self.data.qpos.reshape(-1).copy()\n",
    "        qpos[self.qpos_indices] = x[:len(self.qpos_indices)]\n",
    "        qvel = self.data.qvel.reshape(-1).copy()\n",
    "        qvel[self.dof_indices] = x[len(self.qpos_indices):]\n",
    "        self.set_state(qpos, qvel)\n",
    "        # Only computes end-effector position etc. Is not same as\n",
    "        self.sim.forward()\n",
    "        if u is not None:\n",
    "            self.sim.data.ctrl[:] = u\n",
    "        # self.sim.step()\n",
    "\n",
    "    def set_state(self, qpos, qvel):\n",
    "        assert qpos.shape == (self.model.nq, ) and qvel.shape == (\n",
    "            self.model.nv, )\n",
    "        old_state = self.sim.get_state()\n",
    "        new_state = mujoco_py.MjSimState(old_state.time, qpos, qvel,\n",
    "                                         old_state.act, old_state.udd_state)\n",
    "        self.sim.set_state(new_state)\n",
    "\n",
    "    def get_state(self):\n",
    "        state = self._cache.state\n",
    "        state[:len(self.qpos_indices)] = self.data.qpos[self.qpos_indices]\n",
    "        state[len(self.qpos_indices):] = self.data.qvel[self.dof_indices]\n",
    "        return state\n",
    "\n",
    "    x0 = property(get_state)\n",
    "\n",
    "    def f(self, x, u, i):\n",
    "        \"\"\"Dynamics model.\n",
    "\n",
    "        Args:\n",
    "            x: Current state [state_size].\n",
    "            u: Current control [action_size].\n",
    "            i: Current time step.\n",
    "\n",
    "        Returns:\n",
    "            Next state [state_size].\n",
    "        \"\"\"\n",
    "        self._set_data(x, u)\n",
    "        self.do_simulation()\n",
    "        state = self.get_state()\n",
    "        assert not np.isnan(state).any() and not np.isinf(state).any()\n",
    "        return state\n",
    "\n",
    "    def f_x(self, x, u, i):\n",
    "        \"\"\"Partial derivative of dynamics model with respect to x.\n",
    "\n",
    "        Args:\n",
    "            x: Current state [state_size].\n",
    "            u: Current control [action_size].\n",
    "            i: Current time step.\n",
    "\n",
    "        Returns:\n",
    "            df/dx [state_size, state_size].\n",
    "        \"\"\"\n",
    "        self._set_data(x, u)\n",
    "        deriv = self.mjderiv.compute(self._cache.deriv)\n",
    "        assert not np.isnan(deriv).any() and not np.isinf(deriv).any()\n",
    "\n",
    "        dqacc__dqvel = deriv[0, 1, self.dof_indices, :][:, self.dof_indices]\n",
    "        dqacc__dqpos = deriv[0, 2, self.dof_indices, :][:, self.dof_indices]\n",
    "        dqvel__dqpos = safe_div(self.data.qacc[self.dof_indices].reshape(-1, 1),\n",
    "                                self.data.qvel[self.dof_indices].reshape(1, -1))\n",
    "\n",
    "        J_x = self._cache.f_x\n",
    "        J_x[:dqvel__dqpos.shape[0], :dqvel__dqpos.shape[1]] = dqvel__dqpos\n",
    "        J_x[:dqvel__dqpos.shape[0], dqvel__dqpos.shape[1]:] = np.eye(\n",
    "            len(self.dof_indices))\n",
    "        J_x[dqvel__dqpos.shape[0]:, :dqvel__dqpos.shape[1]] = dqacc__dqpos\n",
    "        J_x[dqvel__dqpos.shape[0]:, dqvel__dqpos.shape[1]:] = dqacc__dqvel\n",
    "        assert not np.isnan(J_x).any() and not np.isinf(J_x).any()\n",
    "        return J_x\n",
    "\n",
    "    def f_u(self, x, u, i):\n",
    "        \"\"\"Partial derivative of dynamics model with respect to u.\n",
    "\n",
    "        Args:\n",
    "            x: Current state [state_size].\n",
    "            u: Current control [action_size].\n",
    "            i: Current time step.\n",
    "\n",
    "        Returns:\n",
    "            df/du [state_size, action_size].\n",
    "        \"\"\"\n",
    "        self._set_data(x, u)\n",
    "        deriv = self.mjderiv.compute(self._cache.deriv)\n",
    "        assert not np.isnan(deriv).any()\n",
    "\n",
    "        dqacc__dqfrc_applied = deriv[0, 0, self.dof_indices, :][:, self.dof_indices]\n",
    "        dqacc__dqvel = deriv[0, 1, self.dof_indices, :][:, self.dof_indices]\n",
    "\n",
    "        assert (self.model.actuator_dyntype == 0).all()\n",
    "        assert (self.model.actuator_gaintype == 0).all()\n",
    "        assert (self.model.actuator_biastype == 0).all()\n",
    "\n",
    "        nv = len(self.dof_indices)\n",
    "        dqfrc_applied__dctrl = np.ones(\n",
    "            (nv, 1)) * self.data.actuator_length.ravel()\n",
    "\n",
    "        dqacc__dctrl = dqacc__dqfrc_applied.dot(dqfrc_applied__dctrl)\n",
    "        assert not np.isnan(dqacc__dctrl).any()\n",
    "\n",
    "        dqvel__dqacc = safe_div(1, dqacc__dqvel)\n",
    "        dqvel__dctrl = dqvel__dqacc.T.dot(dqacc__dctrl)\n",
    "        assert not np.isnan(dqvel__dctrl).any()\n",
    "\n",
    "        J_u = self._cache.f_u\n",
    "        J_u[:dqvel__dctrl.shape[0], :] = dqvel__dctrl\n",
    "        J_u[dqvel__dctrl.shape[0]:, :] = dqacc__dctrl\n",
    "        assert not np.isnan(J_u).any() and not np.isinf(J_u).any()\n",
    "        return J_u\n",
    "\n",
    "    def get_body_jac(self, name):\n",
    "        bodyid = self.model.body_name2id(name)\n",
    "        bodyxpos_dqpos = self.data.body_jacp[bodyid, :].reshape(-1, 3).T\n",
    "        return bodyxpos_dqpos\n",
    "\n",
    "    def dgoal__dqpos(self):\n",
    "        return self.get_body_jac(self.goal_body)[:, self.qpos_indices]\n",
    "\n",
    "    def dgoal__dx(self, x, u):\n",
    "        qpos = self.data.qpos.reshape(-1).copy()\n",
    "        qpos[self.qpos_indices] = x[:len(self.qpos_indices)]\n",
    "        qvel = self.data.qvel.reshape(-1).copy()\n",
    "        qvel[self.dof_indices] = x[len(self.qpos_indices):]\n",
    "        self._set_data(x, u)\n",
    "        dgoal__dqpos = self.dgoal__dqpos()\n",
    "        qacc = self.data.qacc\n",
    "        dqpos__dqvel = safe_div(self.data.qvel[self.dof_indices].reshape(-1, 1),\n",
    "                                self.data.qacc[self.dof_indices].reshape(1, -1))\n",
    "        dgoal__dqvel = dgoal__dqpos.dot(dqpos__dqvel)\n",
    "        dgoal__dx = np.hstack((dgoal__dqpos, dgoal__dqvel))\n",
    "        return dgoal__dx\n",
    "\n",
    "    @property\n",
    "    def goal_size(self):\n",
    "        return 3\n",
    "\n",
    "    def d2goal__d2x(self, x, u):\n",
    "        return np.zeros((self.goal_size, self.state_size, self.state_size))\n",
    "\n",
    "\n",
    "    @property\n",
    "    def dt(self):\n",
    "        return self.model.opt.timestep\n",
    "\n",
    "    def do_simulation(self):\n",
    "        self.sim.step()\n",
    "\n",
    "    @classmethod\n",
    "    def augment_state(self, x):\n",
    "        return x\n",
    "\n",
    "    @classmethod\n",
    "    def reduce_state(self, x):\n",
    "        return x\n",
    "\n",
    "    def hessian_not_supported(self, *a):\n",
    "        raise NotImplementedError(\"Hessians not supported\")\n",
    "\n",
    "    f_xx = hessian_not_supported\n",
    "    f_ux = hessian_not_supported\n",
    "    f_uu = hessian_not_supported"
   ]
  },
  {
   "cell_type": "code",
   "execution_count": 52,
   "metadata": {},
   "outputs": [],
   "source": [
    "import os\n",
    "xml_path = os.path.join(os.getcwd(), 'xmls', 'inverted_pendulum.xml')\n"
   ]
  },
  {
   "cell_type": "code",
   "execution_count": 53,
   "metadata": {},
   "outputs": [
    {
     "name": "stdout",
     "output_type": "stream",
     "text": [
      "[0. 0. 0. 0.]\n",
      "[[ 0.          0.          1.          0.        ]\n",
      " [ 0.          0.          0.          1.        ]\n",
      " [ 0.09246302 -0.22067429 -0.09246302  0.22067429]\n",
      " [-0.22067429  2.15174748  0.22067429 -2.15174749]]\n"
     ]
    },
    {
     "name": "stderr",
     "output_type": "stream",
     "text": [
      "<ipython-input-51-8cf073955ea7>:13: RuntimeWarning: divide by zero encountered in true_divide\n",
      "  return np.where(np.abs(y) < tol, default, x / y)\n"
     ]
    }
   ],
   "source": [
    "model = mj.load_model_from_path(xml_path)\n",
    "sim = mj.MjSim(model, nsubsteps=1)\n",
    "dynamics1 = MujocoDynamics(sim, ['slider', 'hinge'])\n",
    "print(dynamics1.get_state())\n",
    "print(dynamics1.f_x(dynamics1.get_state(), np.array([0.0]), 0))"
   ]
  },
  {
   "cell_type": "code",
   "execution_count": 54,
   "metadata": {},
   "outputs": [
    {
     "name": "stdout",
     "output_type": "stream",
     "text": [
      "[ 0.2064181  -0.18059231 -0.59488688 -0.0323075 ]\n",
      "[[ 1.00000000e+00 -5.68078196e-04  1.99817652e-02  3.92428590e-05]\n",
      " [ 0.00000000e+00  1.00583231e+00  4.23939217e-05  1.96171438e-02]\n",
      " [ 0.00000000e+00 -5.64142100e-02  9.98179846e-01  3.72496278e-03]\n",
      " [ 0.00000000e+00  5.79591667e-01  4.21170671e-03  9.63870722e-01]]\n"
     ]
    }
   ],
   "source": [
    "import mujoco_dynamics\n",
    "dynamics2 = mujoco_dynamics.MujocoDynamics(xml_path, x_eps = 1e-6, u_eps = 1e-6)\n",
    "dynamics2.set_state(np.random.uniform(-1.0, 1.0, (4)))\n",
    "print(dynamics2.get_state())\n",
    "print(dynamics2.f_x(dynamics2.get_state(), np.array([0.0])))"
   ]
  },
  {
   "cell_type": "code",
   "execution_count": 55,
   "metadata": {},
   "outputs": [],
   "source": [
    "import os\n",
    "import numpy as np\n",
    "xml_path = os.path.join(os.getcwd(), 'xmls', 'inverted_pendulum.xml')\n",
    "import mujoco_dynamics\n",
    "dynamics3 = mujoco_dynamics.MujocoDynamics(xml_path, x_eps = 1e-6, u_eps = 13-6)\n",
    "dynamics3.set_state(dynamics2.get_state())"
   ]
  },
  {
   "cell_type": "code",
   "execution_count": 60,
   "metadata": {},
   "outputs": [
    {
     "name": "stdout",
     "output_type": "stream",
     "text": [
      "[[ 0.         -2.88149209]\n",
      " [ 0.         29.55201477]]\n",
      "[[-0.0915236   0.21649105]\n",
      " [ 0.21494537 -2.1335158 ]]\n",
      "[[ 1.00000000e+00 -5.76298418e-04  1.99816953e-02  4.32982108e-05]\n",
      " [ 0.00000000e+00  1.00591040e+00  4.29890733e-05  1.95732968e-02]\n",
      " [ 0.00000000e+00 -5.76298418e-02  9.98169528e-01  4.32982108e-03]\n",
      " [ 0.00000000e+00  5.91040295e-01  4.29890733e-03  9.57329684e-01]]\n"
     ]
    }
   ],
   "source": [
    "import mujoco_py as mj\n",
    "from mujoco_py_deriv import MjDerivative\n",
    "sim = dynamics3.sim\n",
    "dmain = sim.data\n",
    "model = sim.model\n",
    "deriv_obj1 = MjDerivative(model, dmain, [\"qacc\"], [\"qpos\"])\n",
    "deriv_obj2 = MjDerivative(model, dmain, [\"qacc\"], [\"qvel\"])\n",
    "deriv1 = deriv_obj1.compute()\n",
    "deriv2 = deriv_obj2.compute()\n",
    "dqacc_dqpos = deriv1[0][0]\n",
    "dqacc_dqvel = deriv2[0][0]\n",
    "print(dqacc_dqpos)\n",
    "print(dqacc_dqvel)\n",
    "\n",
    "f_x = np.eye(dynamics3.state_size)\n",
    "f_x[:dynamics3.state_size//2, :dynamics3.state_size//2] += 0.5 * (dynamics3.dt ** 2) * dqacc_dqpos\n",
    "f_x[:dynamics3.state_size//2, dynamics3.state_size//2:] += np.eye(dynamics3.state_size // 2) * dynamics3.dt\n",
    "f_x[:dynamics3.state_size//2, dynamics3.state_size//2:] += 0.5 * (dynamics3.dt ** 2) * dqacc_dqvel\n",
    "\n",
    "f_x[dynamics3.state_size//2:, :dynamics3.state_size//2] += dynamics3.dt * dqacc_dqpos\n",
    "f_x[dynamics3.state_size//2:, dynamics3.state_size//2:] += dynamics3.dt * dqacc_dqvel\n",
    "print(f_x)"
   ]
  },
  {
   "cell_type": "code",
   "execution_count": 57,
   "metadata": {},
   "outputs": [
    {
     "name": "stdout",
     "output_type": "stream",
     "text": [
      "[-1.   0.5]\n",
      "[[[[ 6.66133815e-10 -1.27266361e+00]\n",
      "   [-7.10542736e-09  2.17598064e+01]]]]\n"
     ]
    }
   ],
   "source": [
    "import mujoco_py as mj\n",
    "from mujoco_py_deriv import MjDerivative, checkderiv\n",
    "\n",
    "# Prepare mujoco model and data\n",
    "model = mj.load_model_from_path(xml_path)\n",
    "sim = mj.MjSim(model, nsubsteps=1)\n",
    "dmain = sim.data\n",
    "\n",
    "dmain.qpos[:] = np.array([-1.0, 0.5])\n",
    "print(dmain.qpos)\n",
    "# To compute δf/δx\n",
    "f = [\"qacc\"]\n",
    "x = [\"qpos\"]\n",
    "deriv_obj = MjDerivative(model, dmain, f, x)\n",
    "deriv = deriv_obj.compute()\n",
    "print(deriv)"
   ]
  },
  {
   "cell_type": "markdown",
   "metadata": {},
   "source": [
    "x(i+1) = x(i) + v(i) * dt + 0.5 a(i) * dt^2\n",
    "v(i+1) = v(i) + a(i) * dt"
   ]
  },
  {
   "cell_type": "code",
   "execution_count": 59,
   "metadata": {},
   "outputs": [
    {
     "name": "stdout",
     "output_type": "stream",
     "text": [
      "[ 0.2064181  -0.18059231]\n",
      "[0. 0.]\n",
      "[[-0.09246302  0.22059255]\n",
      " [ 0.22067429 -2.15155239]]\n"
     ]
    }
   ],
   "source": [
    "import os\n",
    "import numpy as np\n",
    "import mujoco_py as mj\n",
    "from mujoco_py_deriv import MjDerivative, checkderiv\n",
    "\n",
    "xml_path = os.path.join(os.getcwd(), 'xmls', 'inverted_pendulum.xml')\n",
    "model = mj.load_model_from_path(xml_path)\n",
    "sim = mj.MjSim(model, nsubsteps=1)\n",
    "dmain = sim.data\n",
    "\n",
    "\n",
    "center = np.zeros_like(sim.data.qvel)\n",
    "center[:] = dynamics3.get_state()[:2]\n",
    "sim.data.qvel[:] = center\n",
    "print(sim.data.qvel)\n",
    "sim.forward()\n",
    "qacc_center = np.zeros_like(sim.data.qacc)\n",
    "print(qacc_center)\n",
    "qacc_center[:] = sim.data.qacc\n",
    "deriv = np.zeros((sim.data.qacc.shape[0], sim.data.qvel.shape[0]))\n",
    "for i in range(center.shape[0]):\n",
    "    center[i] += 1e-6\n",
    "    sim.data.qvel[:] = center\n",
    "    sim.forward()\n",
    "    deriv[:, i] = (sim.data.qacc - qacc_center) / 1e-6\n",
    "    center[i] -= 1e-6\n",
    "print(deriv)"
   ]
  },
  {
   "cell_type": "code",
   "execution_count": null,
   "metadata": {},
   "outputs": [],
   "source": []
  }
 ],
 "metadata": {
  "kernelspec": {
   "display_name": "Python 3",
   "language": "python",
   "name": "python3"
  },
  "language_info": {
   "codemirror_mode": {
    "name": "ipython",
    "version": 3
   },
   "file_extension": ".py",
   "mimetype": "text/x-python",
   "name": "python",
   "nbconvert_exporter": "python",
   "pygments_lexer": "ipython3",
   "version": "3.8.3"
  }
 },
 "nbformat": 4,
 "nbformat_minor": 2
}
